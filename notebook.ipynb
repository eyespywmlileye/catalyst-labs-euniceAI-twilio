{
 "cells": [
  {
   "cell_type": "code",
   "execution_count": 1,
   "metadata": {},
   "outputs": [
    {
     "data": {
      "text/plain": [
       "True"
      ]
     },
     "execution_count": 1,
     "metadata": {},
     "output_type": "execute_result"
    }
   ],
   "source": [
    "import os \n",
    "from dotenv import load_dotenv\n",
    "load_dotenv()\n",
    "\n"
   ]
  },
  {
   "cell_type": "code",
   "execution_count": 2,
   "metadata": {},
   "outputs": [],
   "source": [
    "from langchain_community.document_loaders import TextLoader\n",
    "from langchain_openai import OpenAIEmbeddings\n",
    "from langchain.text_splitter import RecursiveCharacterTextSplitter\n",
    "from docx import Document as DocxDocument\n",
    "from PyPDF2 import PdfReader\n",
    "import os\n",
    "\n",
    "def load_and_process_document(file_path):\n",
    "    # Determine file extension\n",
    "    _, file_extension = os.path.splitext(file_path)\n",
    "    \n",
    "    if file_extension.lower() == '.txt':\n",
    "        loader = TextLoader(file_path)\n",
    "        documents = loader.load()\n",
    "    elif file_extension.lower() == '.pdf':\n",
    "        documents = load_pdf(file_path)\n",
    "    elif file_extension.lower() == '.docx':\n",
    "        documents = load_docx(file_path)\n",
    "    else:\n",
    "        raise ValueError(f\"Unsupported file type: {file_extension}\")\n",
    "\n",
    "    text_splitter = RecursiveCharacterTextSplitter(chunk_size=1000, chunk_overlap=20)\n",
    "    docs = text_splitter.split_documents(documents)\n",
    "\n",
    "    return docs \n",
    "\n",
    "def load_pdf(file_path):\n",
    "    with open(file_path, 'rb') as file:\n",
    "        reader = PdfReader(file)\n",
    "        text = ''\n",
    "        for page in reader.pages:\n",
    "            text += page.extract_text() + '\\n'\n",
    "    return [{'text': text}]\n",
    "\n",
    "def load_docx(file_path):\n",
    "    doc = DocxDocument(file_path)\n",
    "    text = ''\n",
    "    for para in doc.paragraphs:\n",
    "        text += para.text + '\\n'\n",
    "    return [{'text': text}]\n"
   ]
  },
  {
   "cell_type": "code",
   "execution_count": 3,
   "metadata": {},
   "outputs": [
    {
     "data": {
      "text/plain": [
       "([Document(page_content=\"# Plumber Services Document\\n\\n## Introduction\\nWelcome to Local Plumber Services, your reliable partner for all your plumbing needs. With years of experience, our team of licensed and insured plumbers is dedicated to providing top-notch service to both residential and commercial clients. From minor repairs to major installations, we handle it all with professionalism and efficiency. Below, you'll find detailed information about our services, pricing, frequently asked questions, and more.\\n\\n## Services Offered\", metadata={'source': 'C:\\\\Users\\\\thibe\\\\OneDrive\\\\Documents\\\\Hackathon\\\\plumber.txt'}),\n",
       "  Document(page_content='### Residential Plumbing Services\\n- **Leak Detection and Repair:** Identifying and fixing leaks in pipes, faucets, and fixtures.\\n- **Drain Cleaning:** Clearing clogs and ensuring smooth drainage in sinks, tubs, and toilets.\\n- **Pipe Installation and Repair:** Installing new pipes or repairing existing ones.\\n- **Water Heater Services:** Installation, repair, and maintenance of water heaters.\\n- **Fixture Installation:** Installing sinks, faucets, toilets, and showers.\\n- **Sewer Line Services:** Repairing and replacing sewer lines to ensure proper waste removal.', metadata={'source': 'C:\\\\Users\\\\thibe\\\\OneDrive\\\\Documents\\\\Hackathon\\\\plumber.txt'}),\n",
       "  Document(page_content='### Commercial Plumbing Services\\n- **Plumbing System Design and Installation:** Custom design and installation of plumbing systems for new constructions.\\n- **Routine Maintenance:** Regular maintenance to prevent issues and ensure efficient operation.\\n- **Emergency Repairs:** Prompt response to plumbing emergencies to minimize downtime.\\n- **Backflow Prevention:** Installation and testing of backflow prevention devices.\\n- **Grease Trap Services:** Cleaning and maintenance of grease traps for commercial kitchens.\\n\\n### Emergency Plumbing Services\\n- **24/7 Availability:** Our team is available around the clock to handle plumbing emergencies.\\n- **Rapid Response:** Quick arrival to diagnose and fix urgent plumbing issues.\\n- **Comprehensive Solutions:** Equipped to handle everything from burst pipes to major leaks.\\n\\n## Pricing', metadata={'source': 'C:\\\\Users\\\\thibe\\\\OneDrive\\\\Documents\\\\Hackathon\\\\plumber.txt'}),\n",
       "  Document(page_content='## Pricing\\n\\n### Residential Pricing\\n- **Service Call Fee:** R75 (waived with repair)\\n- **Hourly Rate:** R100 per hour\\n- **Drain Cleaning:** Starting at R150\\n- **Leak Detection and Repair:** Starting at R125\\n- **Water Heater Installation:** Starting at R500\\n- **Fixture Installation:** Starting at R200 per fixture\\n- **Sewer Line Repair:** Starting at R1,000\\n\\n### Commercial Pricing\\n- **Service Call Fee:** R100 (waived with repair)\\n- **Hourly Rate:** R150 per hour\\n- **Routine Maintenance Packages:**\\n  - **Monthly:** R250\\n  - **Quarterly:** R600\\n  - **Annual:** R2,200\\n- **Backflow Prevention:** Starting at R300\\n- **Grease Trap Cleaning:** Starting at R200\\n\\n### Emergency Services\\n- **After-Hours Service Call Fee:** R150\\n- **Emergency Hourly Rate:** R200 per hour\\n\\n*Please note that all prices are estimates and may vary based on the specific requirements of each job. We provide detailed quotes before starting any work.*', metadata={'source': 'C:\\\\Users\\\\thibe\\\\OneDrive\\\\Documents\\\\Hackathon\\\\plumber.txt'}),\n",
       "  Document(page_content=\"## Opening Times\\n- **Monday to Friday:** 8:00 AM - 6:00 PM\\n- **Saturday:** 9:00 AM - 4:00 PM\\n- **Sunday:** Closed\\n- **Emergency Services:** Available 24/7\\n\\n## Frequently Asked Questions (FAQ)\\n\\n### 1. Do you offer free estimates?\\nYes, we offer free estimates for all our services. Simply contact us to schedule an appointment, and one of our experienced plumbers will assess your needs and provide a detailed quote.\\n\\n### 2. Are your plumbers licensed and insured?\\nAbsolutely. All our plumbers are fully licensed, insured, and trained to handle a wide range of plumbing issues. Your safety and satisfaction are our top priorities.\\n\\n### 3. What areas do you serve?\\nWe serve a wide range of areas including [List of Cities/Regions]. If you're unsure whether we service your area, please give us a call, and we'll be happy to assist.\\n\\n### 4. What types of payment do you accept?\\nWe accept various forms of payment including cash, checks, major credit cards, and online payments.\", metadata={'source': 'C:\\\\Users\\\\thibe\\\\OneDrive\\\\Documents\\\\Hackathon\\\\plumber.txt'}),\n",
       "  Document(page_content='### 5. How do you handle plumbing emergencies?\\nFor plumbing emergencies, we offer 24/7 service. Simply call our emergency hotline, and we’ll dispatch a plumber to your location as quickly as possible.\\n\\n### 6. Can you help with bathroom and kitchen remodels?\\nYes, we specialize in plumbing services for remodels. We can assist with the design, installation, and final touches to ensure your new kitchen or bathroom meets your expectations.\\n\\n### 7. How often should I have my plumbing system inspected?\\nWe recommend having your plumbing system inspected annually to catch potential issues early and ensure everything is functioning properly.\\n\\n### 8. Do you offer any warranties or guarantees?\\nYes, we stand by the quality of our work. We offer a [Specify Duration] warranty on parts and labor for all our services.', metadata={'source': 'C:\\\\Users\\\\thibe\\\\OneDrive\\\\Documents\\\\Hackathon\\\\plumber.txt'}),\n",
       "  Document(page_content='### 9. What should I do if I have a plumbing emergency after hours?\\nIf you have a plumbing emergency outside of our regular business hours, call our emergency hotline. Our team is on standby 24/7 to assist with urgent plumbing issues.\\n\\n### 10. How can I prevent clogged drains?\\nTo prevent clogged drains, avoid disposing of grease, coffee grounds, and large food particles down the drain. Regularly clean strainers and traps in sinks and showers.\\n\\n## Contact Us\\n- **Phone:** 087 445 5224\\n- **Email:** plumber@yourlocalpumbers.com\\n- **Address:** 66 Northam drive, Sandton \\n- **Website:** www.plumber.co.za', metadata={'source': 'C:\\\\Users\\\\thibe\\\\OneDrive\\\\Documents\\\\Hackathon\\\\plumber.txt'})],\n",
       " OpenAIEmbeddings(client=<openai.resources.embeddings.Embeddings object at 0x000001B4C23AF520>, async_client=<openai.resources.embeddings.AsyncEmbeddings object at 0x000001B4DC3BFD90>, model='text-embedding-ada-002', dimensions=None, deployment='text-embedding-ada-002', openai_api_version='', openai_api_base=None, openai_api_type='', openai_proxy='', embedding_ctx_length=8191, openai_api_key=SecretStr('**********'), openai_organization=None, allowed_special=set(), disallowed_special='all', chunk_size=1000, max_retries=2, request_timeout=None, headers=None, tiktoken_enabled=True, tiktoken_model_name=None, show_progress_bar=False, model_kwargs={}, skip_empty=False, default_headers=None, default_query=None, retry_min_seconds=4, retry_max_seconds=20, http_client=None))"
      ]
     },
     "execution_count": 3,
     "metadata": {},
     "output_type": "execute_result"
    }
   ],
   "source": [
    "load_and_process_document(r\"C:\\Users\\thibe\\OneDrive\\Documents\\Hackathon\\plumber.txt\")"
   ]
  },
  {
   "cell_type": "code",
   "execution_count": 4,
   "metadata": {},
   "outputs": [],
   "source": [
    "from langchain_community.document_loaders import TextLoader\n",
    "from langchain_openai import OpenAIEmbeddings\n",
    "from langchain.text_splitter import RecursiveCharacterTextSplitter\n",
    "\n",
    "loader = TextLoader(r\"C:\\Users\\thibe\\OneDrive\\Documents\\Hackathon\\plumber.txt\")\n",
    "documents = loader.load()\n",
    "text_splitter = RecursiveCharacterTextSplitter(chunk_size=1000, chunk_overlap=20)\n",
    "docs = text_splitter.split_documents(documents)\n",
    "\n",
    "embeddings = OpenAIEmbeddings()"
   ]
  },
  {
   "cell_type": "code",
   "execution_count": 3,
   "metadata": {},
   "outputs": [
    {
     "name": "stderr",
     "output_type": "stream",
     "text": [
      "c:\\Users\\thibe\\Anaconda3\\envs\\ttt\\lib\\site-packages\\pinecone\\data\\index.py:1: TqdmWarning: IProgress not found. Please update jupyter and ipywidgets. See https://ipywidgets.readthedocs.io/en/stable/user_install.html\n",
      "  from tqdm.autonotebook import tqdm\n"
     ]
    }
   ],
   "source": [
    "from pinecone import Pinecone, ServerlessSpec\n",
    "\n",
    "pc = Pinecone(api_key= os.getenv('PINECONE_API_KEY'))"
   ]
  },
  {
   "cell_type": "code",
   "execution_count": 7,
   "metadata": {},
   "outputs": [],
   "source": [
    "from langchain_pinecone import PineconeVectorStore  \n",
    "text_field = \"text\"  \n",
    "vectorstore = PineconeVectorStore(  \n",
    "    index_name, embeddings  \n",
    ")  \n"
   ]
  },
  {
   "cell_type": "code",
   "execution_count": 9,
   "metadata": {},
   "outputs": [],
   "source": [
    "vectorstore = PineconeVectorStore(index_name=index_name, embedding=embeddings)\n"
   ]
  },
  {
   "cell_type": "code",
   "execution_count": 11,
   "metadata": {},
   "outputs": [
    {
     "data": {
      "text/plain": [
       "[Document(page_content=\"## Opening Times\\n- **Monday to Friday:** 8:00 AM - 6:00 PM\\n- **Saturday:** 9:00 AM - 4:00 PM\\n- **Sunday:** Closed\\n- **Emergency Services:** Available 24/7\\n\\n## Frequently Asked Questions (FAQ)\\n\\n### 1. Do you offer free estimates?\\nYes, we offer free estimates for all our services. Simply contact us to schedule an appointment, and one of our experienced plumbers will assess your needs and provide a detailed quote.\\n\\n### 2. Are your plumbers licensed and insured?\\nAbsolutely. All our plumbers are fully licensed, insured, and trained to handle a wide range of plumbing issues. Your safety and satisfaction are our top priorities.\\n\\n### 3. What areas do you serve?\\nWe serve a wide range of areas including [List of Cities/Regions]. If you're unsure whether we service your area, please give us a call, and we'll be happy to assist.\\n\\n### 4. What types of payment do you accept?\\nWe accept various forms of payment including cash, checks, major credit cards, and online payments.\", metadata={'source': 'C:\\\\Users\\\\thibe\\\\OneDrive\\\\Documents\\\\Hackathon\\\\plumber.txt'}),\n",
       " Document(page_content='### 9. What should I do if I have a plumbing emergency after hours?\\nIf you have a plumbing emergency outside of our regular business hours, call our emergency hotline. Our team is on standby 24/7 to assist with urgent plumbing issues.\\n\\n### 10. How can I prevent clogged drains?\\nTo prevent clogged drains, avoid disposing of grease, coffee grounds, and large food particles down the drain. Regularly clean strainers and traps in sinks and showers.\\n\\n## Contact Us\\n- **Phone:** 087 445 5224\\n- **Email:** plumber@yourlocalpumbers.com\\n- **Address:** 66 Northam drive, Sandton \\n- **Website:** www.plumber.co.za', metadata={'source': 'C:\\\\Users\\\\thibe\\\\OneDrive\\\\Documents\\\\Hackathon\\\\plumber.txt'})]"
      ]
     },
     "execution_count": 11,
     "metadata": {},
     "output_type": "execute_result"
    }
   ],
   "source": [
    "query = \"what are the closing times ?\"  \n",
    "vectorstore.similarity_search(query, k = 2)\n"
   ]
  },
  {
   "cell_type": "code",
   "execution_count": 16,
   "metadata": {},
   "outputs": [],
   "source": [
    "from langchain_groq import ChatGroq\n",
    "from langchain.schema import Document \n",
    "from langchain.chains import RetrievalQA  \n",
    "from langchain_openai import OpenAIEmbeddings"
   ]
  },
  {
   "cell_type": "code",
   "execution_count": 15,
   "metadata": {},
   "outputs": [],
   "source": [
    "from api.v1.config.mongodb_config import MongoDBConfig\n"
   ]
  },
  {
   "cell_type": "code",
   "execution_count": 19,
   "metadata": {},
   "outputs": [],
   "source": [
    "import os"
   ]
  },
  {
   "cell_type": "code",
   "execution_count": 30,
   "metadata": {},
   "outputs": [],
   "source": [
    "from langchain.memory import ConversationBufferMemory\n",
    "from langchain.chains import ConversationalRetrievalChain\n"
   ]
  },
  {
   "cell_type": "code",
   "execution_count": 36,
   "metadata": {},
   "outputs": [
    {
     "name": "stderr",
     "output_type": "stream",
     "text": [
      "c:\\Users\\thibe\\Anaconda3\\envs\\ttt\\lib\\site-packages\\langchain_core\\_api\\deprecation.py:117: LangChainDeprecationWarning: The class `langchain_community.embeddings.openai.OpenAIEmbeddings` was deprecated in langchain-community 0.1.0 and will be removed in 0.2.0. An updated version of the class exists in the langchain-openai package and should be used instead. To use it run `pip install -U langchain-openai` and import as `from langchain_openai import OpenAIEmbeddings`.\n",
      "  warn_deprecated(\n"
     ]
    },
    {
     "name": "stdout",
     "output_type": "stream",
     "text": [
      "Embedding dimensionality: 1536\n"
     ]
    },
    {
     "ename": "ValidationError",
     "evalue": "1 validation error for ConversationalRetrievalChain\nprompt_template\n  extra fields not permitted (type=value_error.extra)",
     "output_type": "error",
     "traceback": [
      "\u001b[1;31m---------------------------------------------------------------------------\u001b[0m",
      "\u001b[1;31mValidationError\u001b[0m                           Traceback (most recent call last)",
      "Cell \u001b[1;32mIn[36], line 53\u001b[0m\n\u001b[0;32m     50\u001b[0m memory \u001b[38;5;241m=\u001b[39m ConversationBufferMemory(memory_key\u001b[38;5;241m=\u001b[39m\u001b[38;5;124m\"\u001b[39m\u001b[38;5;124mchat_history\u001b[39m\u001b[38;5;124m\"\u001b[39m, return_messages\u001b[38;5;241m=\u001b[39m\u001b[38;5;28;01mTrue\u001b[39;00m)\n\u001b[0;32m     52\u001b[0m \u001b[38;5;66;03m# Create the conversational retrieval chain with the custom prompt\u001b[39;00m\n\u001b[1;32m---> 53\u001b[0m chain \u001b[38;5;241m=\u001b[39m \u001b[43mConversationalRetrievalChain\u001b[49m\u001b[38;5;241;43m.\u001b[39;49m\u001b[43mfrom_llm\u001b[49m\u001b[43m(\u001b[49m\n\u001b[0;32m     54\u001b[0m \u001b[43m    \u001b[49m\u001b[43mllm\u001b[49m\u001b[43m,\u001b[49m\n\u001b[0;32m     55\u001b[0m \u001b[43m    \u001b[49m\u001b[43mretriever\u001b[49m\u001b[38;5;241;43m=\u001b[39;49m\u001b[43mvectorstore\u001b[49m\u001b[38;5;241;43m.\u001b[39;49m\u001b[43mas_retriever\u001b[49m\u001b[43m(\u001b[49m\u001b[43m)\u001b[49m\u001b[43m,\u001b[49m\n\u001b[0;32m     56\u001b[0m \u001b[43m    \u001b[49m\u001b[43mmemory\u001b[49m\u001b[38;5;241;43m=\u001b[39;49m\u001b[43mmemory\u001b[49m\u001b[43m,\u001b[49m\n\u001b[0;32m     57\u001b[0m \u001b[43m    \u001b[49m\u001b[43mprompt_template\u001b[49m\u001b[38;5;241;43m=\u001b[39;49m\u001b[43mprompt\u001b[49m\n\u001b[0;32m     58\u001b[0m \u001b[43m)\u001b[49m\n\u001b[0;32m     60\u001b[0m \u001b[38;5;66;03m# Run the chain with the given query\u001b[39;00m\n\u001b[0;32m     61\u001b[0m response \u001b[38;5;241m=\u001b[39m chain\u001b[38;5;241m.\u001b[39mrun({\u001b[38;5;124m'\u001b[39m\u001b[38;5;124mquestion\u001b[39m\u001b[38;5;124m'\u001b[39m: query})\n",
      "File \u001b[1;32mc:\\Users\\thibe\\Anaconda3\\envs\\ttt\\lib\\site-packages\\langchain\\chains\\conversational_retrieval\\base.py:387\u001b[0m, in \u001b[0;36mConversationalRetrievalChain.from_llm\u001b[1;34m(cls, llm, retriever, condense_question_prompt, chain_type, verbose, condense_question_llm, combine_docs_chain_kwargs, callbacks, **kwargs)\u001b[0m\n\u001b[0;32m    380\u001b[0m _llm \u001b[38;5;241m=\u001b[39m condense_question_llm \u001b[38;5;129;01mor\u001b[39;00m llm\n\u001b[0;32m    381\u001b[0m condense_question_chain \u001b[38;5;241m=\u001b[39m LLMChain(\n\u001b[0;32m    382\u001b[0m     llm\u001b[38;5;241m=\u001b[39m_llm,\n\u001b[0;32m    383\u001b[0m     prompt\u001b[38;5;241m=\u001b[39mcondense_question_prompt,\n\u001b[0;32m    384\u001b[0m     verbose\u001b[38;5;241m=\u001b[39mverbose,\n\u001b[0;32m    385\u001b[0m     callbacks\u001b[38;5;241m=\u001b[39mcallbacks,\n\u001b[0;32m    386\u001b[0m )\n\u001b[1;32m--> 387\u001b[0m \u001b[38;5;28;01mreturn\u001b[39;00m \u001b[38;5;28mcls\u001b[39m(\n\u001b[0;32m    388\u001b[0m     retriever\u001b[38;5;241m=\u001b[39mretriever,\n\u001b[0;32m    389\u001b[0m     combine_docs_chain\u001b[38;5;241m=\u001b[39mdoc_chain,\n\u001b[0;32m    390\u001b[0m     question_generator\u001b[38;5;241m=\u001b[39mcondense_question_chain,\n\u001b[0;32m    391\u001b[0m     callbacks\u001b[38;5;241m=\u001b[39mcallbacks,\n\u001b[0;32m    392\u001b[0m     \u001b[38;5;241m*\u001b[39m\u001b[38;5;241m*\u001b[39mkwargs,\n\u001b[0;32m    393\u001b[0m )\n",
      "File \u001b[1;32mc:\\Users\\thibe\\Anaconda3\\envs\\ttt\\lib\\site-packages\\langchain_core\\load\\serializable.py:120\u001b[0m, in \u001b[0;36mSerializable.__init__\u001b[1;34m(self, **kwargs)\u001b[0m\n\u001b[0;32m    119\u001b[0m \u001b[38;5;28;01mdef\u001b[39;00m \u001b[38;5;21m__init__\u001b[39m(\u001b[38;5;28mself\u001b[39m, \u001b[38;5;241m*\u001b[39m\u001b[38;5;241m*\u001b[39mkwargs: Any) \u001b[38;5;241m-\u001b[39m\u001b[38;5;241m>\u001b[39m \u001b[38;5;28;01mNone\u001b[39;00m:\n\u001b[1;32m--> 120\u001b[0m     \u001b[38;5;28msuper\u001b[39m()\u001b[38;5;241m.\u001b[39m\u001b[38;5;21m__init__\u001b[39m(\u001b[38;5;241m*\u001b[39m\u001b[38;5;241m*\u001b[39mkwargs)\n\u001b[0;32m    121\u001b[0m     \u001b[38;5;28mself\u001b[39m\u001b[38;5;241m.\u001b[39m_lc_kwargs \u001b[38;5;241m=\u001b[39m kwargs\n",
      "File \u001b[1;32mc:\\Users\\thibe\\Anaconda3\\envs\\ttt\\lib\\site-packages\\pydantic\\v1\\main.py:341\u001b[0m, in \u001b[0;36mBaseModel.__init__\u001b[1;34m(__pydantic_self__, **data)\u001b[0m\n\u001b[0;32m    339\u001b[0m values, fields_set, validation_error \u001b[38;5;241m=\u001b[39m validate_model(__pydantic_self__\u001b[38;5;241m.\u001b[39m\u001b[38;5;18m__class__\u001b[39m, data)\n\u001b[0;32m    340\u001b[0m \u001b[38;5;28;01mif\u001b[39;00m validation_error:\n\u001b[1;32m--> 341\u001b[0m     \u001b[38;5;28;01mraise\u001b[39;00m validation_error\n\u001b[0;32m    342\u001b[0m \u001b[38;5;28;01mtry\u001b[39;00m:\n\u001b[0;32m    343\u001b[0m     object_setattr(__pydantic_self__, \u001b[38;5;124m'\u001b[39m\u001b[38;5;124m__dict__\u001b[39m\u001b[38;5;124m'\u001b[39m, values)\n",
      "\u001b[1;31mValidationError\u001b[0m: 1 validation error for ConversationalRetrievalChain\nprompt_template\n  extra fields not permitted (type=value_error.extra)"
     ]
    }
   ],
   "source": [
    "import os\n",
    "import numpy as np\n",
    "from langchain.embeddings import OpenAIEmbeddings\n",
    "from langchain.chains import ConversationalRetrievalChain\n",
    "from langchain.memory import ConversationBufferMemory\n",
    "from langchain.prompts import PromptTemplate\n",
    " \n",
    "# Define your query and top_k\n",
    "query = \"What are the closing times?\"\n",
    "top_k = 2\n",
    "\n",
    "# Initialize OpenAI embeddings\n",
    "embeddings = OpenAIEmbeddings()\n",
    "\n",
    "# Check the dimensionality of the embeddings\n",
    "sample_embedding = embeddings.embed_query(query)  # or embeddings.embed_documents([query])\n",
    "embedding_dim = np.array(sample_embedding).shape[-1]\n",
    "print(f\"Embedding dimensionality: {embedding_dim}\")\n",
    "\n",
    "# Ensure your Pinecone index is created with the correct dimensionality\n",
    "mongodb_config = MongoDBConfig()\n",
    "\n",
    "# Search Index name\n",
    "index_name = mongodb_config.vector_search_index_name\n",
    "\n",
    "vectorstore = PineconeVectorStore(index_name=\"langchain-index\",\n",
    "                                  embedding=embeddings)\n",
    "\n",
    "# Initialize the completion LLM\n",
    "llm = ChatGroq(\n",
    "    temperature=0,\n",
    "    model_name='mixtral-8x7b-32768',\n",
    "    groq_api_key=os.getenv('GROQ_API_KEY')\n",
    ")\n",
    "\n",
    "# Define a custom prompt template\n",
    "custom_prompt_template = \"\"\"\n",
    "You are an AI assistant. Answer the following question based on the provided context and your knowledge.\n",
    "\n",
    "Context: {context}\n",
    "\n",
    "Question: {question}\n",
    "\n",
    "Answer:\n",
    "\"\"\"\n",
    "\n",
    "prompt = PromptTemplate(template=custom_prompt_template, input_variables=[\"context\", \"question\"])\n",
    "\n",
    "# Set up memory\n",
    "memory = ConversationBufferMemory(memory_key=\"chat_history\", return_messages=True)\n",
    "\n",
    "# Create the conversational retrieval chain with the custom prompt\n",
    "chain = ConversationalRetrievalChain.from_llm(\n",
    "    llm,\n",
    "    retriever=vectorstore.as_retriever(),\n",
    "    memory=memory,\n",
    "    prompt_template=prompt\n",
    ")\n",
    "\n",
    "# Run the chain with the given query\n",
    "response = chain.run({'question': query})\n",
    "print(response)\n"
   ]
  },
  {
   "cell_type": "code",
   "execution_count": 32,
   "metadata": {},
   "outputs": [
    {
     "data": {
      "text/plain": [
       "'Based on the information provided, the closing times for this business are as follows:\\n\\n- Monday to Friday: 6:00 PM\\n- Saturday: 4:00 PM\\n- Sunday: The business is closed on Sundays.\\n\\nFor emergency services, they are available 24/7. You can call their emergency hotline if you need assistance outside of their regular business hours.'"
      ]
     },
     "execution_count": 32,
     "metadata": {},
     "output_type": "execute_result"
    }
   ],
   "source": [
    "query = \"what are the closing times ?\"\n",
    " \n",
    "top_k = 2\n",
    "embeddings: OpenAIEmbeddings = OpenAIEmbeddings()\n",
    "mongodb_config: MongoDBConfig = MongoDBConfig()\n",
    "\n",
    "# Search Index name\n",
    "index_name: str = mongodb_config.vector_search_index_name\n",
    "\n",
    "    \n",
    "vectorstore = PineconeVectorStore(index_name=\"langchain-index\", \n",
    "                                    embedding=embeddings)\n",
    "\n",
    "\n",
    "\n",
    "# completion llm  \n",
    "llm = ChatGroq(  \n",
    "    temperature = 0, \n",
    "    model_name = 'mixtral-8x7b-32768',\n",
    "    groq_api_key = os.getenv('GROQ_API_KEY')\n",
    ")  \n",
    "\n",
    "memory = ConversationBufferMemory(memory_key=\"chat_history\", return_messages= True)\n",
    "chain = ConversationalRetrievalChain.from_llm(llm, retriever= vectorstore.as_retriever() , memory= memory)\n",
    "\n",
    " \n",
    "chain.run({'question': query}) "
   ]
  },
  {
   "cell_type": "code",
   "execution_count": 34,
   "metadata": {},
   "outputs": [
    {
     "data": {
      "text/plain": [
       "'Hello! Based on the provided context, Local Plumber Services offers a variety of plumbing services. These include:\\n\\n1. Free estimates for all services.\\n2. Handling of plumbing emergencies available 24/7.\\n3. Services for bathroom and kitchen remodels.\\n4. Annual plumbing system inspections.\\n5. Warranty on parts and labor for all services.\\n6. Assistance with clogged drains.\\n\\nIf you have any specific questions or need more information, feel free to ask!'"
      ]
     },
     "execution_count": 34,
     "metadata": {},
     "output_type": "execute_result"
    }
   ],
   "source": [
    "chain.run({'question': \"how are you?\"}) "
   ]
  },
  {
   "cell_type": "code",
   "execution_count": 26,
   "metadata": {},
   "outputs": [
    {
     "data": {
      "text/plain": [
       "[Document(page_content=\"## Opening Times\\n- **Monday to Friday:** 8:00 AM - 6:00 PM\\n- **Saturday:** 9:00 AM - 4:00 PM\\n- **Sunday:** Closed\\n- **Emergency Services:** Available 24/7\\n\\n## Frequently Asked Questions (FAQ)\\n\\n### 1. Do you offer free estimates?\\nYes, we offer free estimates for all our services. Simply contact us to schedule an appointment, and one of our experienced plumbers will assess your needs and provide a detailed quote.\\n\\n### 2. Are your plumbers licensed and insured?\\nAbsolutely. All our plumbers are fully licensed, insured, and trained to handle a wide range of plumbing issues. Your safety and satisfaction are our top priorities.\\n\\n### 3. What areas do you serve?\\nWe serve a wide range of areas including [List of Cities/Regions]. If you're unsure whether we service your area, please give us a call, and we'll be happy to assist.\\n\\n### 4. What types of payment do you accept?\\nWe accept various forms of payment including cash, checks, major credit cards, and online payments.\", metadata={'source': 'C:\\\\Users\\\\thibe\\\\OneDrive\\\\Documents\\\\Hackathon\\\\plumber.txt'}),\n",
       " Document(page_content='### 9. What should I do if I have a plumbing emergency after hours?\\nIf you have a plumbing emergency outside of our regular business hours, call our emergency hotline. Our team is on standby 24/7 to assist with urgent plumbing issues.\\n\\n### 10. How can I prevent clogged drains?\\nTo prevent clogged drains, avoid disposing of grease, coffee grounds, and large food particles down the drain. Regularly clean strainers and traps in sinks and showers.\\n\\n## Contact Us\\n- **Phone:** 087 445 5224\\n- **Email:** plumber@yourlocalpumbers.com\\n- **Address:** 66 Northam drive, Sandton \\n- **Website:** www.plumber.co.za', metadata={'source': 'C:\\\\Users\\\\thibe\\\\OneDrive\\\\Documents\\\\Hackathon\\\\plumber.txt'})]"
      ]
     },
     "execution_count": 26,
     "metadata": {},
     "output_type": "execute_result"
    }
   ],
   "source": [
    "vectorstore.similarity_search(query, \n",
    "                                k = 2)"
   ]
  },
  {
   "cell_type": "code",
   "execution_count": 21,
   "metadata": {},
   "outputs": [
    {
     "data": {
      "text/plain": [
       "'Based on the information provided, the closing times for this business are as follows:\\n\\n- Monday to Friday: 6:00 PM\\n- Saturday: 4:00 PM\\n- Sunday: The business is closed on Sundays.\\n\\nFor emergency services, they are available 24/7. You can call their emergency hotline if you need assistance outside of their regular business hours.'"
      ]
     },
     "execution_count": 21,
     "metadata": {},
     "output_type": "execute_result"
    }
   ],
   "source": [
    "answer"
   ]
  },
  {
   "cell_type": "code",
   "execution_count": 3,
   "metadata": {},
   "outputs": [],
   "source": [
    "index_name = \"langchain-index\""
   ]
  },
  {
   "cell_type": "code",
   "execution_count": 4,
   "metadata": {},
   "outputs": [],
   "source": [
    "import time\n",
    "\n",
    "index_name = \"langchain-index\"  # change if desired\n",
    "\n",
    "existing_indexes = [index_info[\"name\"] for index_info in pc.list_indexes()]\n",
    "\n",
    "if index_name not in existing_indexes:\n",
    "    pc.create_index(\n",
    "        name=index_name,\n",
    "        dimension=1536,\n",
    "        metric=\"cosine\",\n",
    "        spec=ServerlessSpec(cloud=\"aws\", region=\"us-east-1\"),\n",
    "    )\n",
    "    while not pc.describe_index(index_name).status[\"ready\"]:\n",
    "        time.sleep(1)\n",
    "\n",
    "index = pc.Index(index_name)"
   ]
  },
  {
   "cell_type": "code",
   "execution_count": 5,
   "metadata": {},
   "outputs": [],
   "source": [
    "from langchain_pinecone import PineconeVectorStore\n",
    "\n",
    "docsearch = PineconeVectorStore.from_documents(docs, embeddings, index_name=index_name)"
   ]
  },
  {
   "cell_type": "code",
   "execution_count": 8,
   "metadata": {},
   "outputs": [
    {
     "name": "stdout",
     "output_type": "stream",
     "text": [
      "## Pricing\n",
      "\n",
      "### Residential Pricing\n",
      "- **Service Call Fee:** R75 (waived with repair)\n",
      "- **Hourly Rate:** R100 per hour\n",
      "- **Drain Cleaning:** Starting at R150\n",
      "- **Leak Detection and Repair:** Starting at R125\n",
      "- **Water Heater Installation:** Starting at R500\n",
      "- **Fixture Installation:** Starting at R200 per fixture\n",
      "- **Sewer Line Repair:** Starting at R1,000\n",
      "\n",
      "### Commercial Pricing\n",
      "- **Service Call Fee:** R100 (waived with repair)\n",
      "- **Hourly Rate:** R150 per hour\n",
      "- **Routine Maintenance Packages:**\n",
      "  - **Monthly:** R250\n",
      "  - **Quarterly:** R600\n",
      "  - **Annual:** R2,200\n",
      "- **Backflow Prevention:** Starting at R300\n",
      "- **Grease Trap Cleaning:** Starting at R200\n",
      "\n",
      "### Emergency Services\n",
      "- **After-Hours Service Call Fee:** R150\n",
      "- **Emergency Hourly Rate:** R200 per hour\n",
      "\n",
      "*Please note that all prices are estimates and may vary based on the specific requirements of each job. We provide detailed quotes before starting any work.*\n"
     ]
    }
   ],
   "source": [
    "query = \"What is the price for emergency repairs?\"\n",
    "docs = docsearch.similarity_search(query)\n",
    "print(docs[0].page_content)"
   ]
  }
 ],
 "metadata": {
  "kernelspec": {
   "display_name": "ttt",
   "language": "python",
   "name": "python3"
  },
  "language_info": {
   "codemirror_mode": {
    "name": "ipython",
    "version": 3
   },
   "file_extension": ".py",
   "mimetype": "text/x-python",
   "name": "python",
   "nbconvert_exporter": "python",
   "pygments_lexer": "ipython3",
   "version": "3.10.14"
  }
 },
 "nbformat": 4,
 "nbformat_minor": 2
}
